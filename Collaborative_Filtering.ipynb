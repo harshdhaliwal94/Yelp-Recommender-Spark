{
 "cells": [
  {
   "cell_type": "code",
   "execution_count": 1,
   "metadata": {},
   "outputs": [],
   "source": [
    "!export PATH=/usr/lib/jvm/java-8-openjdk-amd64/jre/bin:/u3/cs451/packages/spark/bin:/u3/cs451/packages/hadoop/bin:/u3/cs451/packages/maven/bin:/u3/cs451/packages/scala/bin:$PATH\n",
    "!export JAVA_HOME=/usr/lib/jvm/java-8-openjdk-amd64/jre"
   ]
  },
  {
   "cell_type": "code",
   "execution_count": 2,
   "metadata": {},
   "outputs": [],
   "source": [
    "import findspark\n",
    "findspark.init(\"/u/cs451/packages/spark\")\n",
    "\n",
    "from pyspark.sql import SparkSession\n",
    "spark = SparkSession.builder.getOrCreate()"
   ]
  },
  {
   "cell_type": "code",
   "execution_count": 3,
   "metadata": {},
   "outputs": [],
   "source": [
    "import numpy as np\n",
    "import pandas as pd\n",
    "import matplotlib.pyplot as plt\n",
    "\n",
    "from pyspark.ml import Pipeline\n",
    "from pyspark.sql.functions import *\n",
    "from pyspark.sql.types import *\n",
    "\n",
    "\n",
    "from pyspark.sql import Row\n",
    "from pyspark.sql import SQLContext\n",
    "\n",
    "from pyspark.ml.recommendation import ALS, ALSModel\n",
    "from pyspark.ml.tuning import TrainValidationSplit, ParamGridBuilder, CrossValidator\n",
    "from pyspark.ml.evaluation import RegressionEvaluator\n",
    "\n",
    "# import folium\n",
    "import html"
   ]
  },
  {
   "cell_type": "code",
   "execution_count": 4,
   "metadata": {},
   "outputs": [],
   "source": [
    "model_path = 'ALS/'\n",
    "outout_path = 'output/'"
   ]
  },
  {
   "cell_type": "markdown",
   "metadata": {},
   "source": [
    "### Data Loading"
   ]
  },
  {
   "cell_type": "code",
   "execution_count": 5,
   "metadata": {},
   "outputs": [
    {
     "name": "stdout",
     "output_type": "stream",
     "text": [
      "root\n",
      " |-- business_id: string (nullable = true)\n",
      " |-- business_name: string (nullable = true)\n",
      " |-- address: string (nullable = true)\n",
      " |-- city: string (nullable = true)\n",
      " |-- state: string (nullable = true)\n",
      " |-- postal_code: string (nullable = true)\n",
      " |-- latitude: double (nullable = true)\n",
      " |-- longitude: double (nullable = true)\n",
      " |-- stars: double (nullable = true)\n",
      " |-- review_count: long (nullable = true)\n",
      " |-- categories: string (nullable = true)\n",
      "\n"
     ]
    }
   ],
   "source": [
    "# create the business dataframe\n",
    "business_df = spark.read.parquet(\"Data/yelp_business.parquet\")\n",
    "\n",
    "# print the schema of the review dataframe\n",
    "business_df.printSchema()"
   ]
  },
  {
   "cell_type": "code",
   "execution_count": 6,
   "metadata": {},
   "outputs": [
    {
     "name": "stdout",
     "output_type": "stream",
     "text": [
      "root\n",
      " |-- user_id: string (nullable = true)\n",
      " |-- user_name: string (nullable = true)\n",
      " |-- review_count: long (nullable = true)\n",
      " |-- yelping_since: string (nullable = true)\n",
      " |-- useful: long (nullable = true)\n",
      " |-- fans: long (nullable = true)\n",
      " |-- average_stars: double (nullable = true)\n",
      "\n"
     ]
    }
   ],
   "source": [
    "# create the business dataframe\n",
    "user_df = spark.read.parquet(\"Data/yelp_users.parquet\")\n",
    "\n",
    "# print the schema of the review dataframe\n",
    "user_df.printSchema()"
   ]
  },
  {
   "cell_type": "code",
   "execution_count": 7,
   "metadata": {},
   "outputs": [
    {
     "name": "stdout",
     "output_type": "stream",
     "text": [
      "root\n",
      " |-- review_id: string (nullable = true)\n",
      " |-- user_id: string (nullable = true)\n",
      " |-- business_id: string (nullable = true)\n",
      " |-- stars: double (nullable = true)\n",
      " |-- review_date: string (nullable = true)\n",
      " |-- review_text: string (nullable = true)\n",
      " |-- useful: long (nullable = true)\n",
      " |-- funny: long (nullable = true)\n",
      " |-- cool: long (nullable = true)\n",
      "\n"
     ]
    }
   ],
   "source": [
    "# create the review dataframe\n",
    "\n",
    "review_df = spark.read.parquet(\"Data/yelp_review.parquet\")\n",
    "\n",
    "# print the schema of the review dataframe\n",
    "review_df.printSchema()"
   ]
  },
  {
   "cell_type": "code",
   "execution_count": 8,
   "metadata": {},
   "outputs": [
    {
     "name": "stdout",
     "output_type": "stream",
     "text": [
      "+--------------------+--------------------+\n",
      "|         business_id|       business_name|\n",
      "+--------------------+--------------------+\n",
      "|NDuUMJfrWk52RA-H-...|      Bolt Fresh Bar|\n",
      "|SP_YXIEwkFPPl_9an...|The Steady Cafe &...|\n",
      "+--------------------+--------------------+\n",
      "only showing top 2 rows\n",
      "\n"
     ]
    }
   ],
   "source": [
    "# show some business records\n",
    "\n",
    "business_df.select('business_id', 'business_name').show(2)"
   ]
  },
  {
   "cell_type": "code",
   "execution_count": 9,
   "metadata": {},
   "outputs": [
    {
     "data": {
      "text/plain": [
       "7965"
      ]
     },
     "execution_count": 9,
     "metadata": {},
     "output_type": "execute_result"
    }
   ],
   "source": [
    "business_df.count()"
   ]
  },
  {
   "cell_type": "code",
   "execution_count": 10,
   "metadata": {},
   "outputs": [
    {
     "name": "stdout",
     "output_type": "stream",
     "text": [
      "+--------------------+---------+\n",
      "|             user_id|user_name|\n",
      "+--------------------+---------+\n",
      "|gvXtMj3XuPr0xHjgm...|    Peter|\n",
      "|pU6GoRTcl1rIOi6zM...|   Javier|\n",
      "+--------------------+---------+\n",
      "only showing top 2 rows\n",
      "\n"
     ]
    }
   ],
   "source": [
    "# show some user records\n",
    "\n",
    "user_df.select('user_id', 'user_name').show(2)"
   ]
  },
  {
   "cell_type": "code",
   "execution_count": 11,
   "metadata": {},
   "outputs": [
    {
     "name": "stdout",
     "output_type": "stream",
     "text": [
      "+--------------------+--------------------+-----+\n",
      "|             user_id|         business_id|stars|\n",
      "+--------------------+--------------------+-----+\n",
      "|TpyOT5E16YASd7EWj...|AakkkTuGZA2KBodKi...|  1.0|\n",
      "|NJlxGtouq06hhC7sS...|YvrylyuWgbP90RgMq...|  5.0|\n",
      "+--------------------+--------------------+-----+\n",
      "only showing top 2 rows\n",
      "\n"
     ]
    }
   ],
   "source": [
    "# show some review records\n",
    "\n",
    "review_df.select('user_id', 'business_id', 'stars').show(2)"
   ]
  },
  {
   "cell_type": "markdown",
   "metadata": {},
   "source": [
    "#### Spark ALS implementation requires the rating matrix to have the follwoing data types:\n",
    "\n",
    "```\n",
    "ratings_df_schema = StructType(\n",
    "[StructField('userId', IntegerType()),\n",
    " StructField('businessId', IntegerType()),\n",
    " StructField('rating', DoubleType())]\n",
    ")\n",
    "```\n",
    "\n",
    "So, we need to map existing string user_id, and business_id to integer values"
   ]
  },
  {
   "cell_type": "code",
   "execution_count": 12,
   "metadata": {},
   "outputs": [
    {
     "name": "stdout",
     "output_type": "stream",
     "text": [
      "+--------------------+------+\n",
      "|             user_id|userId|\n",
      "+--------------------+------+\n",
      "|gvXtMj3XuPr0xHjgm...|     0|\n",
      "|pU6GoRTcl1rIOi6zM...|     1|\n",
      "+--------------------+------+\n",
      "only showing top 2 rows\n",
      "\n"
     ]
    }
   ],
   "source": [
    "# create a new userId column (integer)\n",
    "sqlContext = SQLContext(spark.sparkContext)\n",
    "user_newid_df = sqlContext.createDataFrame(user_df.rdd.map(lambda x: x[0]).zipWithIndex(), \\\n",
    "        StructType([StructField(\"user_id\", StringType(), True),StructField(\"userId\", IntegerType(), True)]))\n",
    "\n",
    "user_newid_df.show(2)"
   ]
  },
  {
   "cell_type": "code",
   "execution_count": 13,
   "metadata": {},
   "outputs": [
    {
     "name": "stdout",
     "output_type": "stream",
     "text": [
      "+------+--------------------+---------+\n",
      "|userId|             user_id|user_name|\n",
      "+------+--------------------+---------+\n",
      "|     0|gvXtMj3XuPr0xHjgm...|    Peter|\n",
      "|     1|pU6GoRTcl1rIOi6zM...|   Javier|\n",
      "+------+--------------------+---------+\n",
      "only showing top 2 rows\n",
      "\n"
     ]
    }
   ],
   "source": [
    "# add the new userId column the user dataframe\n",
    "\n",
    "a = user_df.alias(\"a\")\n",
    "b = user_newid_df.alias(\"b\")\n",
    "    \n",
    "user_new_df = a.join(b, col(\"a.user_id\") == col(\"b.user_id\"), 'inner') \\\n",
    "             .select([col('a.'+xx) for xx in a.columns] + [col('b.userId')])\n",
    "\n",
    "user_new_df.select('userId','user_id', 'user_name').show(2)"
   ]
  },
  {
   "cell_type": "code",
   "execution_count": 14,
   "metadata": {},
   "outputs": [
    {
     "name": "stdout",
     "output_type": "stream",
     "text": [
      "+--------------------+----------+\n",
      "|         business_id|businessId|\n",
      "+--------------------+----------+\n",
      "|NDuUMJfrWk52RA-H-...|         0|\n",
      "|SP_YXIEwkFPPl_9an...|         1|\n",
      "+--------------------+----------+\n",
      "only showing top 2 rows\n",
      "\n"
     ]
    }
   ],
   "source": [
    "# create a new businessId column (integer)\n",
    "\n",
    "business_newid_df = sqlContext.createDataFrame(business_df.rdd.map(lambda x: x[0]).zipWithIndex(), \\\n",
    "        StructType([StructField(\"business_id\", StringType(), True),StructField(\"businessId\", IntegerType(), True)]))\n",
    "\n",
    "business_newid_df.show(2)"
   ]
  },
  {
   "cell_type": "code",
   "execution_count": 15,
   "metadata": {},
   "outputs": [
    {
     "name": "stdout",
     "output_type": "stream",
     "text": [
      "+----------+--------------------+--------------------+\n",
      "|businessId|         business_id|       business_name|\n",
      "+----------+--------------------+--------------------+\n",
      "|         0|NDuUMJfrWk52RA-H-...|      Bolt Fresh Bar|\n",
      "|         1|SP_YXIEwkFPPl_9an...|The Steady Cafe &...|\n",
      "+----------+--------------------+--------------------+\n",
      "only showing top 2 rows\n",
      "\n"
     ]
    }
   ],
   "source": [
    "# add the new businessId column the business dataframe\n",
    "\n",
    "a = business_df.alias(\"a\")\n",
    "b = business_newid_df.alias(\"b\")\n",
    "    \n",
    "business_new_df = a.join(b, col(\"a.business_id\") == col(\"b.business_id\"), 'inner') \\\n",
    "             .select([col('a.'+xx) for xx in a.columns] + [col('b.businessId')])\n",
    "\n",
    "business_new_df.select('businessId','business_id', 'business_name').show(2)"
   ]
  },
  {
   "cell_type": "code",
   "execution_count": 16,
   "metadata": {},
   "outputs": [],
   "source": [
    "# map new userId and businessId in the review dataframe\n",
    "\n",
    "review_df = review_df.select('user_id', 'business_id', 'stars')\n",
    "\n",
    "\n",
    "# map the userId\n",
    "a = review_df.alias(\"a\")\n",
    "b = user_newid_df.alias(\"b\")\n",
    "    \n",
    "review_userId_df = a.join(b, col(\"a.user_id\") == col(\"b.user_id\"), 'inner').select([col('a.'+xx) for xx in a.columns] + [col('b.userId')])"
   ]
  },
  {
   "cell_type": "code",
   "execution_count": 17,
   "metadata": {},
   "outputs": [],
   "source": [
    "# # map the businessId\n",
    "# Not working\n",
    "\n",
    "# a = review_userId_df.alias(\"a\")\n",
    "# b = business_newid_df.alias(\"b\")\n",
    "\n",
    "# review_userId_businessId_df = a.join(b, col(\"a.business_id\") == col(\"b.business_id\"), 'inner') \\\n",
    "#                          .select([col('a.'+xx) for xx in a.columns] + [col('b.businessId')])\n",
    "\n",
    "# review_userId_businessId_df.show(2)"
   ]
  },
  {
   "cell_type": "code",
   "execution_count": 18,
   "metadata": {},
   "outputs": [
    {
     "data": {
      "text/plain": [
       "DataFrame[user_id: string, business_id: string, stars: double, userId: int]"
      ]
     },
     "execution_count": 18,
     "metadata": {},
     "output_type": "execute_result"
    }
   ],
   "source": [
    "# map the businessId\n",
    "a = review_userId_df.alias(\"a\")\n",
    "b = business_df.alias(\"b\")\n",
    "\n",
    "review_userId_businessId_df = a.join(b, col(\"a.business_id\") == col(\"b.business_id\"), 'inner').select([col('a.'+xx) for xx in a.columns])\n",
    "\n",
    "review_userId_businessId_df"
   ]
  },
  {
   "cell_type": "code",
   "execution_count": 19,
   "metadata": {},
   "outputs": [
    {
     "name": "stdout",
     "output_type": "stream",
     "text": [
      "+--------------------+--------------------+-----+------+\n",
      "|             user_id|         business_id|stars|userId|\n",
      "+--------------------+--------------------+-----+------+\n",
      "|-4Anvj46CWf57KWI9...|478TIlfHXfT3wvww5...|  3.0| 31855|\n",
      "|-BUamlG3H-7yqpAl1...|MlKNIbEM-JL9WesSd...|  1.0| 29628|\n",
      "|-CGdueQKCHM_KnHxO...|Ze4VPogvcD7inc3Qu...|  1.0| 28103|\n",
      "|-LR8Z9Cun0VG8Rmju...|exs56JDSWmPWQ3dQO...|  5.0| 52708|\n",
      "|-LyjHYhPha2loUaiM...|2PCz_uVX7GOXtGHNX...|  4.0| 68379|\n",
      "+--------------------+--------------------+-----+------+\n",
      "only showing top 5 rows\n",
      "\n"
     ]
    }
   ],
   "source": [
    "review_userId_businessId_df.show(5)"
   ]
  },
  {
   "cell_type": "markdown",
   "metadata": {},
   "source": [
    "#### Joining the review_userId_df with the business_newid_df was giving error of FileNotFound.\n",
    "Hence, We created the broadcase var of business_newid and then performed the join operation"
   ]
  },
  {
   "cell_type": "code",
   "execution_count": 20,
   "metadata": {},
   "outputs": [],
   "source": [
    "# Get the rdd from the business_newid_df\n",
    "bn_rdd = business_newid_df.rdd.map(lambda row: (row[0], row[1])).collectAsMap()\n"
   ]
  },
  {
   "cell_type": "code",
   "execution_count": 21,
   "metadata": {},
   "outputs": [],
   "source": [
    "# Create Broadcast variable from bn_rdd\n",
    "bn_brodcast = spark.sparkContext.broadcast(bn_rdd)"
   ]
  },
  {
   "cell_type": "code",
   "execution_count": 22,
   "metadata": {},
   "outputs": [],
   "source": [
    "# Join the Review_user_business_df with the business_df using broadcast\n",
    "rub_rdd = review_userId_businessId_df.rdd.map(lambda row: (row[0],row[1],row[2],row[3],bn_brodcast.value[row[1]]))"
   ]
  },
  {
   "cell_type": "code",
   "execution_count": 23,
   "metadata": {},
   "outputs": [
    {
     "name": "stdout",
     "output_type": "stream",
     "text": [
      "[('-4Anvj46CWf57KWI9UQDLg', '478TIlfHXfT3wvww54QsPg', 3.0, 31855, 1107), ('-BUamlG3H-7yqpAl1p-msw', 'MlKNIbEM-JL9WesSdwf_Lg', 1.0, 29628, 2442), ('-CGdueQKCHM_KnHxOoTJXg', 'Ze4VPogvcD7inc3QuvY_yg', 1.0, 28103, 1370), ('-LR8Z9Cun0VG8RmjuzA51w', 'exs56JDSWmPWQ3dQOdjHag', 5.0, 52708, 1788), ('-LyjHYhPha2loUaiMPnsrw', '2PCz_uVX7GOXtGHNXAPXhw', 4.0, 68379, 6179)]\n"
     ]
    }
   ],
   "source": [
    "# Print the rdd\n",
    "print(rub_rdd.take(5))"
   ]
  },
  {
   "cell_type": "code",
   "execution_count": 24,
   "metadata": {},
   "outputs": [],
   "source": [
    "# Create Dataframe from the rdd\n",
    "review_userId_businessId_df = sqlContext.createDataFrame(rub_rdd,\n",
    "                                    StructType([StructField(\"user_id\", StringType(), True),\n",
    "                                                StructField(\"business_id\", StringType(), True),\n",
    "                                                StructField(\"stars\", DoubleType(), True),\n",
    "                                                StructField(\"userId\", IntegerType(), True),\n",
    "                                                StructField(\"businessId\", IntegerType(), True)]))"
   ]
  },
  {
   "cell_type": "code",
   "execution_count": 25,
   "metadata": {},
   "outputs": [
    {
     "name": "stdout",
     "output_type": "stream",
     "text": [
      "+--------------------+--------------------+-----+------+----------+\n",
      "|             user_id|         business_id|stars|userId|businessId|\n",
      "+--------------------+--------------------+-----+------+----------+\n",
      "|-4Anvj46CWf57KWI9...|478TIlfHXfT3wvww5...|  3.0| 31855|      1107|\n",
      "|-BUamlG3H-7yqpAl1...|MlKNIbEM-JL9WesSd...|  1.0| 29628|      2442|\n",
      "|-CGdueQKCHM_KnHxO...|Ze4VPogvcD7inc3Qu...|  1.0| 28103|      1370|\n",
      "|-LR8Z9Cun0VG8Rmju...|exs56JDSWmPWQ3dQO...|  5.0| 52708|      1788|\n",
      "|-LyjHYhPha2loUaiM...|2PCz_uVX7GOXtGHNX...|  4.0| 68379|      6179|\n",
      "+--------------------+--------------------+-----+------+----------+\n",
      "only showing top 5 rows\n",
      "\n"
     ]
    }
   ],
   "source": [
    "review_userId_businessId_df.show(5)"
   ]
  },
  {
   "cell_type": "markdown",
   "metadata": {},
   "source": [
    "### Collaborative Filtering"
   ]
  },
  {
   "cell_type": "code",
   "execution_count": 26,
   "metadata": {},
   "outputs": [
    {
     "name": "stdout",
     "output_type": "stream",
     "text": [
      "+------+----------+------+\n",
      "|userId|businessId|rating|\n",
      "+------+----------+------+\n",
      "| 31855|      1107|   3.0|\n",
      "| 29628|      2442|   1.0|\n",
      "+------+----------+------+\n",
      "only showing top 2 rows\n",
      "\n",
      " Rating matrx no. of rows : 376593\n",
      "root\n",
      " |-- userId: integer (nullable = true)\n",
      " |-- businessId: integer (nullable = true)\n",
      " |-- rating: float (nullable = true)\n",
      "\n"
     ]
    }
   ],
   "source": [
    "# create the rating dataframe required by the ALS model\n",
    "\n",
    "rating_df = review_userId_businessId_df.select('userId', 'businessId', review_userId_businessId_df.stars.cast('float').alias('rating'))\n",
    "rating_df.show(2)\n",
    "print(' Rating matrx no. of rows :', rating_df.count())\n",
    "rating_df.printSchema()"
   ]
  },
  {
   "cell_type": "code",
   "execution_count": 27,
   "metadata": {},
   "outputs": [],
   "source": [
    "# load a new instance of the saved ALS model\n",
    "alsn_model = ALSModel.load(model_path + 'alsb')"
   ]
  },
  {
   "cell_type": "code",
   "execution_count": 28,
   "metadata": {},
   "outputs": [],
   "source": [
    "# generate top 10 business recommendations for each user\n",
    "\n",
    "userRecoms = alsn_model.recommendForAllUsers(10)\n"
   ]
  },
  {
   "cell_type": "code",
   "execution_count": 29,
   "metadata": {},
   "outputs": [
    {
     "name": "stdout",
     "output_type": "stream",
     "text": [
      "+------+--------------------------------------------------------------------------------------------------------------------------------------------------------------------------------------+----------------------+\n",
      "|userId|recommendations                                                                                                                                                                       |user_id               |\n",
      "+------+--------------------------------------------------------------------------------------------------------------------------------------------------------------------------------------+----------------------+\n",
      "|148   |[[2289, 4.502557], [6851, 4.5001936], [332, 4.337512], [6359, 4.329177], [3603, 4.3270016], [4891, 4.318773], [7003, 4.3168774], [660, 4.2920914], [4195, 4.264028], [7501, 4.259718]]|3xlBfGV9vFUmZapiT5NPfg|\n",
      "+------+--------------------------------------------------------------------------------------------------------------------------------------------------------------------------------------+----------------------+\n",
      "only showing top 1 row\n",
      "\n"
     ]
    }
   ],
   "source": [
    "# add the column user_id, cache the recommendaton dataframe and show recommedations sample\n",
    "\n",
    "a = userRecoms.alias(\"a\")\n",
    "b = user_newid_df.alias(\"b\")\n",
    "    \n",
    "all_userRecoms = a.join(b, col(\"a.userId\") == col(\"b.userId\"), 'inner') \\\n",
    "             .select([col('a.'+xx) for xx in a.columns] + [col('b.user_id')])\n",
    "\n",
    "all_userRecoms.cache()   \n",
    "all_userRecoms.show(1, truncate=False)"
   ]
  },
  {
   "cell_type": "code",
   "execution_count": 30,
   "metadata": {},
   "outputs": [
    {
     "name": "stdout",
     "output_type": "stream",
     "text": [
      "+----------+-----------------+\n",
      "|businessId|           rating|\n",
      "+----------+-----------------+\n",
      "|      2289|4.356423377990723|\n",
      "|      6359|4.317990303039551|\n",
      "|       660|4.297473430633545|\n",
      "|      7501|4.277865886688232|\n",
      "|      4195|4.256645679473877|\n",
      "|      5468|   4.204833984375|\n",
      "|      6851|4.203225135803223|\n",
      "|      7003|4.196661949157715|\n",
      "|       332|4.180690288543701|\n",
      "|      4090|4.160634994506836|\n",
      "+----------+-----------------+\n",
      "\n"
     ]
    }
   ],
   "source": [
    "# show recommendations for soem user id\n",
    "\n",
    "u_id = 'ZWD8UH1T7QXQr0Eq-mcWYg'\n",
    "\n",
    "userFlatRec =  sqlContext.createDataFrame(all_userRecoms.filter(col('user_id') == u_id).rdd.flatMap(lambda p: p[1]))\n",
    "userFlatRec.show()"
   ]
  },
  {
   "cell_type": "code",
   "execution_count": 31,
   "metadata": {},
   "outputs": [
    {
     "data": {
      "text/html": [
       "<div>\n",
       "<style scoped>\n",
       "    .dataframe tbody tr th:only-of-type {\n",
       "        vertical-align: middle;\n",
       "    }\n",
       "\n",
       "    .dataframe tbody tr th {\n",
       "        vertical-align: top;\n",
       "    }\n",
       "\n",
       "    .dataframe thead th {\n",
       "        text-align: right;\n",
       "    }\n",
       "</style>\n",
       "<table border=\"1\" class=\"dataframe\">\n",
       "  <thead>\n",
       "    <tr style=\"text-align: right;\">\n",
       "      <th></th>\n",
       "      <th>business_id</th>\n",
       "      <th>business_name</th>\n",
       "      <th>rating</th>\n",
       "      <th>categories</th>\n",
       "    </tr>\n",
       "  </thead>\n",
       "  <tbody>\n",
       "    <tr>\n",
       "      <th>0</th>\n",
       "      <td>otsjAjxf0PNQ99xcmuj_LA</td>\n",
       "      <td>Sushi Making For the Soul</td>\n",
       "      <td>4.356423</td>\n",
       "      <td>Japanese, Education, Restaurants, Local Flavor</td>\n",
       "    </tr>\n",
       "    <tr>\n",
       "      <th>1</th>\n",
       "      <td>zsLKMCnwK_NmZJkI7TJk1A</td>\n",
       "      <td>Brando's Fried Chicken</td>\n",
       "      <td>4.160635</td>\n",
       "      <td>Chicken Shop, Restaurants, American (Tradition...</td>\n",
       "    </tr>\n",
       "    <tr>\n",
       "      <th>2</th>\n",
       "      <td>PT6tAoQxtCqsGc7r4nEXLQ</td>\n",
       "      <td>Trinity Square Cafe</td>\n",
       "      <td>4.317990</td>\n",
       "      <td>Restaurants, Cafes</td>\n",
       "    </tr>\n",
       "    <tr>\n",
       "      <th>3</th>\n",
       "      <td>bumAFxitMRHKAxZMijvUYg</td>\n",
       "      <td>Cuisine of India</td>\n",
       "      <td>4.180690</td>\n",
       "      <td>Caterers, Event Planning &amp; Services, Restauran...</td>\n",
       "    </tr>\n",
       "    <tr>\n",
       "      <th>4</th>\n",
       "      <td>IM6pHgP2ewa6xhnDk6s2_g</td>\n",
       "      <td>Mikaku Izakaya</td>\n",
       "      <td>4.203225</td>\n",
       "      <td>Japanese, Restaurants</td>\n",
       "    </tr>\n",
       "    <tr>\n",
       "      <th>5</th>\n",
       "      <td>9GLN1xfck07CKfNfejKCwg</td>\n",
       "      <td>T-Sushi</td>\n",
       "      <td>4.204834</td>\n",
       "      <td>Sushi Bars, Food, Food Delivery Services, Japa...</td>\n",
       "    </tr>\n",
       "    <tr>\n",
       "      <th>6</th>\n",
       "      <td>v_OLzcpFA7vgVp30vxv2uQ</td>\n",
       "      <td>Silver Spoon</td>\n",
       "      <td>4.256646</td>\n",
       "      <td>Restaurants, American (New), Canadian (New)</td>\n",
       "    </tr>\n",
       "    <tr>\n",
       "      <th>7</th>\n",
       "      <td>fCZU04T_8lUdXX2aBYisEA</td>\n",
       "      <td>Freshii</td>\n",
       "      <td>4.277866</td>\n",
       "      <td>Breakfast &amp; Brunch, Specialty Food, Health Mar...</td>\n",
       "    </tr>\n",
       "    <tr>\n",
       "      <th>8</th>\n",
       "      <td>Hn-bPW6z63BjA4XBAFsVgw</td>\n",
       "      <td>Sugar Miracles</td>\n",
       "      <td>4.196662</td>\n",
       "      <td>Restaurants, Patisserie/Cake Shop, Chocolatier...</td>\n",
       "    </tr>\n",
       "    <tr>\n",
       "      <th>9</th>\n",
       "      <td>1VAsBosvx02jpvIUxiKvmg</td>\n",
       "      <td>The Dumpling Shop</td>\n",
       "      <td>4.297473</td>\n",
       "      <td>Specialty Food, Food, Chinese, Dim Sum, Restau...</td>\n",
       "    </tr>\n",
       "  </tbody>\n",
       "</table>\n",
       "</div>"
      ],
      "text/plain": [
       "              business_id              business_name    rating  \\\n",
       "0  otsjAjxf0PNQ99xcmuj_LA  Sushi Making For the Soul  4.356423   \n",
       "1  zsLKMCnwK_NmZJkI7TJk1A     Brando's Fried Chicken  4.160635   \n",
       "2  PT6tAoQxtCqsGc7r4nEXLQ        Trinity Square Cafe  4.317990   \n",
       "3  bumAFxitMRHKAxZMijvUYg           Cuisine of India  4.180690   \n",
       "4  IM6pHgP2ewa6xhnDk6s2_g             Mikaku Izakaya  4.203225   \n",
       "5  9GLN1xfck07CKfNfejKCwg                    T-Sushi  4.204834   \n",
       "6  v_OLzcpFA7vgVp30vxv2uQ               Silver Spoon  4.256646   \n",
       "7  fCZU04T_8lUdXX2aBYisEA                    Freshii  4.277866   \n",
       "8  Hn-bPW6z63BjA4XBAFsVgw             Sugar Miracles  4.196662   \n",
       "9  1VAsBosvx02jpvIUxiKvmg          The Dumpling Shop  4.297473   \n",
       "\n",
       "                                          categories  \n",
       "0     Japanese, Education, Restaurants, Local Flavor  \n",
       "1  Chicken Shop, Restaurants, American (Tradition...  \n",
       "2                                 Restaurants, Cafes  \n",
       "3  Caterers, Event Planning & Services, Restauran...  \n",
       "4                              Japanese, Restaurants  \n",
       "5  Sushi Bars, Food, Food Delivery Services, Japa...  \n",
       "6        Restaurants, American (New), Canadian (New)  \n",
       "7  Breakfast & Brunch, Specialty Food, Health Mar...  \n",
       "8  Restaurants, Patisserie/Cake Shop, Chocolatier...  \n",
       "9  Specialty Food, Food, Chinese, Dim Sum, Restau...  "
      ]
     },
     "execution_count": 31,
     "metadata": {},
     "output_type": "execute_result"
    }
   ],
   "source": [
    "# show the recommeded restaurants details\n",
    "\n",
    "a = business_new_df.alias(\"a\")\n",
    "b = userFlatRec.alias(\"b\")\n",
    "\n",
    "user_collab_df = a.join(b, col(\"a.businessId\") == col(\"b.businessId\"), 'inner') \\\n",
    "                         .select([col('a.'+xx) for xx in a.columns] + [col('b.rating')])\n",
    "    \n",
    "user_collab_df.select('business_id', 'business_name', 'rating', 'categories').toPandas()"
   ]
  },
  {
   "cell_type": "code",
   "execution_count": 32,
   "metadata": {},
   "outputs": [],
   "source": [
    "def getCollabRecom(u_id):\n",
    "    \n",
    "    userFlatRec =  sqlContext.createDataFrame(all_userRecoms.filter(col('user_id') == u_id).rdd.flatMap(lambda p: p[1]))\n",
    "\n",
    "    a = userFlatRec.alias(\"a\")\n",
    "    b = business_new_df.alias(\"b\")\n",
    "    \n",
    "    return a.join(b, col(\"a.businessId\") == col(\"b.businessId\"), 'inner') \\\n",
    "             .select([col('b.business_id'), col('a.rating'), col('b.business_name'),col('b.categories'),\n",
    "                                                           col('b.stars'),col('b.review_count'),\n",
    "                                                           col('b.latitude'),col('b.longitude')]) \\\n",
    "             .orderBy(\"rating\", ascending = False)\n",
    "    "
   ]
  },
  {
   "cell_type": "code",
   "execution_count": 33,
   "metadata": {},
   "outputs": [
    {
     "data": {
      "text/html": [
       "<div>\n",
       "<style scoped>\n",
       "    .dataframe tbody tr th:only-of-type {\n",
       "        vertical-align: middle;\n",
       "    }\n",
       "\n",
       "    .dataframe tbody tr th {\n",
       "        vertical-align: top;\n",
       "    }\n",
       "\n",
       "    .dataframe thead th {\n",
       "        text-align: right;\n",
       "    }\n",
       "</style>\n",
       "<table border=\"1\" class=\"dataframe\">\n",
       "  <thead>\n",
       "    <tr style=\"text-align: right;\">\n",
       "      <th></th>\n",
       "      <th>business_id</th>\n",
       "      <th>rating</th>\n",
       "      <th>business_name</th>\n",
       "      <th>categories</th>\n",
       "      <th>stars</th>\n",
       "      <th>review_count</th>\n",
       "      <th>latitude</th>\n",
       "      <th>longitude</th>\n",
       "    </tr>\n",
       "  </thead>\n",
       "  <tbody>\n",
       "    <tr>\n",
       "      <th>0</th>\n",
       "      <td>otsjAjxf0PNQ99xcmuj_LA</td>\n",
       "      <td>4.356423</td>\n",
       "      <td>Sushi Making For the Soul</td>\n",
       "      <td>Japanese, Education, Restaurants, Local Flavor</td>\n",
       "      <td>4.5</td>\n",
       "      <td>3</td>\n",
       "      <td>43.656233</td>\n",
       "      <td>-79.392319</td>\n",
       "    </tr>\n",
       "    <tr>\n",
       "      <th>1</th>\n",
       "      <td>PT6tAoQxtCqsGc7r4nEXLQ</td>\n",
       "      <td>4.317990</td>\n",
       "      <td>Trinity Square Cafe</td>\n",
       "      <td>Restaurants, Cafes</td>\n",
       "      <td>5.0</td>\n",
       "      <td>6</td>\n",
       "      <td>43.654877</td>\n",
       "      <td>-79.381470</td>\n",
       "    </tr>\n",
       "    <tr>\n",
       "      <th>2</th>\n",
       "      <td>1VAsBosvx02jpvIUxiKvmg</td>\n",
       "      <td>4.297473</td>\n",
       "      <td>The Dumpling Shop</td>\n",
       "      <td>Specialty Food, Food, Chinese, Dim Sum, Restau...</td>\n",
       "      <td>4.5</td>\n",
       "      <td>22</td>\n",
       "      <td>43.767971</td>\n",
       "      <td>-79.401363</td>\n",
       "    </tr>\n",
       "    <tr>\n",
       "      <th>3</th>\n",
       "      <td>fCZU04T_8lUdXX2aBYisEA</td>\n",
       "      <td>4.277866</td>\n",
       "      <td>Freshii</td>\n",
       "      <td>Breakfast &amp; Brunch, Specialty Food, Health Mar...</td>\n",
       "      <td>4.5</td>\n",
       "      <td>3</td>\n",
       "      <td>43.659574</td>\n",
       "      <td>-79.381027</td>\n",
       "    </tr>\n",
       "    <tr>\n",
       "      <th>4</th>\n",
       "      <td>v_OLzcpFA7vgVp30vxv2uQ</td>\n",
       "      <td>4.256646</td>\n",
       "      <td>Silver Spoon</td>\n",
       "      <td>Restaurants, American (New), Canadian (New)</td>\n",
       "      <td>5.0</td>\n",
       "      <td>4</td>\n",
       "      <td>43.650883</td>\n",
       "      <td>-79.450832</td>\n",
       "    </tr>\n",
       "    <tr>\n",
       "      <th>5</th>\n",
       "      <td>9GLN1xfck07CKfNfejKCwg</td>\n",
       "      <td>4.204834</td>\n",
       "      <td>T-Sushi</td>\n",
       "      <td>Sushi Bars, Food, Food Delivery Services, Japa...</td>\n",
       "      <td>5.0</td>\n",
       "      <td>20</td>\n",
       "      <td>43.644745</td>\n",
       "      <td>-79.390892</td>\n",
       "    </tr>\n",
       "    <tr>\n",
       "      <th>6</th>\n",
       "      <td>IM6pHgP2ewa6xhnDk6s2_g</td>\n",
       "      <td>4.203225</td>\n",
       "      <td>Mikaku Izakaya</td>\n",
       "      <td>Japanese, Restaurants</td>\n",
       "      <td>4.5</td>\n",
       "      <td>3</td>\n",
       "      <td>43.793327</td>\n",
       "      <td>-79.419321</td>\n",
       "    </tr>\n",
       "    <tr>\n",
       "      <th>7</th>\n",
       "      <td>Hn-bPW6z63BjA4XBAFsVgw</td>\n",
       "      <td>4.196662</td>\n",
       "      <td>Sugar Miracles</td>\n",
       "      <td>Restaurants, Patisserie/Cake Shop, Chocolatier...</td>\n",
       "      <td>5.0</td>\n",
       "      <td>4</td>\n",
       "      <td>43.716805</td>\n",
       "      <td>-79.400696</td>\n",
       "    </tr>\n",
       "    <tr>\n",
       "      <th>8</th>\n",
       "      <td>bumAFxitMRHKAxZMijvUYg</td>\n",
       "      <td>4.180690</td>\n",
       "      <td>Cuisine of India</td>\n",
       "      <td>Caterers, Event Planning &amp; Services, Restauran...</td>\n",
       "      <td>5.0</td>\n",
       "      <td>3</td>\n",
       "      <td>43.782522</td>\n",
       "      <td>-79.474959</td>\n",
       "    </tr>\n",
       "    <tr>\n",
       "      <th>9</th>\n",
       "      <td>zsLKMCnwK_NmZJkI7TJk1A</td>\n",
       "      <td>4.160635</td>\n",
       "      <td>Brando's Fried Chicken</td>\n",
       "      <td>Chicken Shop, Restaurants, American (Tradition...</td>\n",
       "      <td>5.0</td>\n",
       "      <td>3</td>\n",
       "      <td>43.655111</td>\n",
       "      <td>-79.414505</td>\n",
       "    </tr>\n",
       "  </tbody>\n",
       "</table>\n",
       "</div>"
      ],
      "text/plain": [
       "              business_id    rating              business_name  \\\n",
       "0  otsjAjxf0PNQ99xcmuj_LA  4.356423  Sushi Making For the Soul   \n",
       "1  PT6tAoQxtCqsGc7r4nEXLQ  4.317990        Trinity Square Cafe   \n",
       "2  1VAsBosvx02jpvIUxiKvmg  4.297473          The Dumpling Shop   \n",
       "3  fCZU04T_8lUdXX2aBYisEA  4.277866                    Freshii   \n",
       "4  v_OLzcpFA7vgVp30vxv2uQ  4.256646               Silver Spoon   \n",
       "5  9GLN1xfck07CKfNfejKCwg  4.204834                    T-Sushi   \n",
       "6  IM6pHgP2ewa6xhnDk6s2_g  4.203225             Mikaku Izakaya   \n",
       "7  Hn-bPW6z63BjA4XBAFsVgw  4.196662             Sugar Miracles   \n",
       "8  bumAFxitMRHKAxZMijvUYg  4.180690           Cuisine of India   \n",
       "9  zsLKMCnwK_NmZJkI7TJk1A  4.160635     Brando's Fried Chicken   \n",
       "\n",
       "                                          categories  stars  review_count  \\\n",
       "0     Japanese, Education, Restaurants, Local Flavor    4.5             3   \n",
       "1                                 Restaurants, Cafes    5.0             6   \n",
       "2  Specialty Food, Food, Chinese, Dim Sum, Restau...    4.5            22   \n",
       "3  Breakfast & Brunch, Specialty Food, Health Mar...    4.5             3   \n",
       "4        Restaurants, American (New), Canadian (New)    5.0             4   \n",
       "5  Sushi Bars, Food, Food Delivery Services, Japa...    5.0            20   \n",
       "6                              Japanese, Restaurants    4.5             3   \n",
       "7  Restaurants, Patisserie/Cake Shop, Chocolatier...    5.0             4   \n",
       "8  Caterers, Event Planning & Services, Restauran...    5.0             3   \n",
       "9  Chicken Shop, Restaurants, American (Tradition...    5.0             3   \n",
       "\n",
       "    latitude  longitude  \n",
       "0  43.656233 -79.392319  \n",
       "1  43.654877 -79.381470  \n",
       "2  43.767971 -79.401363  \n",
       "3  43.659574 -79.381027  \n",
       "4  43.650883 -79.450832  \n",
       "5  43.644745 -79.390892  \n",
       "6  43.793327 -79.419321  \n",
       "7  43.716805 -79.400696  \n",
       "8  43.782522 -79.474959  \n",
       "9  43.655111 -79.414505  "
      ]
     },
     "execution_count": 33,
     "metadata": {},
     "output_type": "execute_result"
    }
   ],
   "source": [
    "u_id = 'ZWD8UH1T7QXQr0Eq-mcWYg'\n",
    "\n",
    "getCollabRecom(u_id).toPandas()"
   ]
  },
  {
   "cell_type": "code",
   "execution_count": null,
   "metadata": {},
   "outputs": [],
   "source": []
  }
 ],
 "metadata": {
  "anaconda-cloud": {},
  "kernelspec": {
   "display_name": "Python 2",
   "language": "python",
   "name": "python2"
  },
  "language_info": {
   "codemirror_mode": {
    "name": "ipython",
    "version": 3
   },
   "file_extension": ".py",
   "mimetype": "text/x-python",
   "name": "python",
   "nbconvert_exporter": "python",
   "pygments_lexer": "ipython3",
   "version": "3.6.8"
  }
 },
 "nbformat": 4,
 "nbformat_minor": 1
}
